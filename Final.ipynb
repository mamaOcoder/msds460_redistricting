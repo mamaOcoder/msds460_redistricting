{
 "cells": [
  {
   "cell_type": "code",
   "execution_count": 1,
   "id": "c481f906",
   "metadata": {},
   "outputs": [],
   "source": [
    "import math\n",
    "from math import pi, pow, sin, cos, asin, sqrt, floor\n",
    "from scipy import stats\n",
    "import numpy as np\n",
    "from pyproj import Proj\n",
    "from itertools import chain, combinations\n",
    "import pulp\n",
    "import networkx as nx\n",
    "\n"
   ]
  },
  {
   "cell_type": "code",
   "execution_count": 2,
   "id": "932a5d95",
   "metadata": {},
   "outputs": [],
   "source": [
    "NJ_neighbour_counties_data = {\n",
    "    \"Atlantic\": [\"Atlantic\", \"Burlington\", \"Camden\", \"Cape May\", \"Cumberland\", \"Gloucester\", \"Ocean\"],\n",
    "    \"Bergen\": [\"Bergen\", \"Essex\", \"Hudson\", \"Passaic\"],\n",
    "    \"Burlington\": [\"Burlington\", \"Atlantic\", \"Camden\", \"Mercer\", \"Monmouth\", \"Ocean\"],\n",
    "    \"Camden\": [\"Camden\", \"Atlantic\", \"Burlington\", \"Gloucester\"],\n",
    "    \"Cape May\": [\"Cape May\", \"Atlantic\", \"Cumberland\"],\n",
    "    \"Cumberland\": [\"Cumberland\", \"Atlantic\", \"Cape May\", \"Gloucester\", \"Salem\"],\n",
    "    \"Essex\": [\"Essex\", \"Bergen\", \"Hudson\", \"Morris\", \"Passaic\", \"Union\"],\n",
    "    \"Gloucester\": [\"Gloucester\", \"Atlantic\", \"Camden\", \"Cumberland\", \"Salem\"],\n",
    "    \"Hudson\": [\"Hudson\", \"Bergen\", \"Essex\", \"Union\"],\n",
    "    \"Hunterdon\": [\"Hunterdon\", \"Mercer\", \"Morris\", \"Somerset\", \"Warren\"],\n",
    "    \"Mercer\": [\"Mercer\", \"Burlington\", \"Hunterdon\", \"Middlesex\", \"Monmouth\", \"Somerset\"],\n",
    "    \"Middlesex\": [\"Middlesex\", \"Mercer\", \"Monmouth\", \"Somerset\", \"Union\"],\n",
    "    \"Monmouth\": [\"Monmouth\", \"Burlington\", \"Mercer\", \"Middlesex\", \"Ocean\"],\n",
    "    \"Morris\": [\"Morris\", \"Essex\", \"Hunterdon\", \"Passaic\", \"Somerset\", \"Sussex\", \"Union\", \"Warren\"],\n",
    "    \"Ocean\": [\"Ocean\", \"Atlantic\", \"Burlington\", \"Monmouth\"],\n",
    "    \"Passaic\": [\"Passaic\", \"Bergen\", \"Essex\", \"Morris\", \"Sussex\"],\n",
    "    \"Salem\": [\"Salem\", \"Cumberland\", \"Gloucester\"],\n",
    "    \"Somerset\": [\"Somerset\", \"Hunterdon\", \"Mercer\", \"Middlesex\", \"Morris\", \"Union\"],\n",
    "    \"Sussex\": [\"Sussex\", \"Morris\", \"Passaic\", \"Warren\"],\n",
    "    \"Union\": [\"Union\", \"Essex\", \"Hudson\", \"Middlesex\", \"Morris\", \"Somerset\"],\n",
    "    \"Warren\": [\"Warren\", \"Hunterdon\", \"Morris\", \"Sussex\"]\n",
    "}\n",
    "\n",
    "NJ_county_coordinates = {\n",
    "    'Atlantic': (39.4754, -74.6474),\n",
    "    'Bergen': (40.9590, -74.0715),\n",
    "    'Burlington': (39.9090, -74.8270),\n",
    "    'Camden': (39.8010, -74.9650),\n",
    "    'Cape May': (39.1406, -74.8011),\n",
    "    'Cumberland': (39.3700, -75.1115),\n",
    "    'Essex': (40.7870, -74.2602),\n",
    "    'Gloucester': (39.7173, -75.1247),\n",
    "    'Hudson': (40.7282, -74.0776),\n",
    "    'Hunterdon': (40.5707, -74.9437),\n",
    "    'Mercer': (40.2804, -74.7110),\n",
    "    'Middlesex': (40.4384, -74.4149),\n",
    "    'Monmouth': (40.3020, -74.2449),\n",
    "    'Morris': (40.8602, -74.5522),\n",
    "    'Ocean': (39.9659, -74.2905),\n",
    "    'Passaic': (40.9493, -74.2129),\n",
    "    'Salem': (39.5793, -75.4110),\n",
    "    'Somerset': (40.5652, -74.6705),\n",
    "    'Sussex': (41.1289, -74.6918),\n",
    "    'Union': (40.6595, -74.3089),\n",
    "    'Warren': (40.8568, -75.0027)\n",
    "}\n",
    "\n",
    "\n",
    "NJ_county_population = {\n",
    "    'Atlantic': 274534,\n",
    "    'Bergen': 955732,\n",
    "    'Burlington': 461860,\n",
    "    'Camden': 523485,\n",
    "    'Cape May': 95263,\n",
    "    'Cumberland': 154152,\n",
    "    'Essex': 863728,\n",
    "    'Gloucester': 302294,\n",
    "    'Hudson': 724854,\n",
    "    'Hunterdon': 128947,\n",
    "    'Mercer': 387340,\n",
    "    'Middlesex': 863162,\n",
    "    'Monmouth': 643615,\n",
    "    'Morris': 509285,\n",
    "    'Ocean': 637229,\n",
    "    'Passaic': 524118,\n",
    "    'Salem': 64837,\n",
    "    'Somerset': 345361,\n",
    "    'Sussex': 144221,\n",
    "    'Union': 575345,\n",
    "    'Warren': 109632\n",
    "}\n",
    "\n",
    "NJ_county_white_population = {\n",
    "    'Atlantic': 156796,\n",
    "    'Bergen': 543849,\n",
    "    'Burlington': 303024,\n",
    "    'Camden': 293198,\n",
    "    'Cape May': 81536,\n",
    "    'Cumberland': 74606,\n",
    "    'Essex': 261487,\n",
    "    'Gloucester': 230313,\n",
    "    'Hudson': 248561,\n",
    "    'Hunterdon': 106790,\n",
    "    'Mercer': 178447,\n",
    "    'Middlesex': 361742,\n",
    "    'Monmouth': 476056,\n",
    "    'Morris': 354824,\n",
    "    'Ocean': 534036,\n",
    "    'Passaic': 229573,\n",
    "    'Salem': 46600,\n",
    "    'Somerset': 185499,\n",
    "    'Sussex': 121879,\n",
    "    'Union': 236589,\n",
    "    'Warren': 86875\n",
    "}"
   ]
  },
  {
   "cell_type": "code",
   "execution_count": null,
   "id": "60d4d431",
   "metadata": {},
   "outputs": [],
   "source": []
  },
  {
   "cell_type": "code",
   "execution_count": 3,
   "id": "5af9482e",
   "metadata": {},
   "outputs": [],
   "source": [
    "# List of all counties\n",
    "counties = sorted(NJ_neighbour_counties_data.keys())\n"
   ]
  },
  {
   "cell_type": "code",
   "execution_count": 4,
   "id": "a8a84d0e",
   "metadata": {},
   "outputs": [
    {
     "data": {
      "text/plain": [
       "[('Salem', 64837),\n",
       " ('Cape May', 95263),\n",
       " ('Warren', 109632),\n",
       " ('Hunterdon', 128947),\n",
       " ('Sussex', 144221),\n",
       " ('Cumberland', 154152),\n",
       " ('Atlantic', 274534),\n",
       " ('Gloucester', 302294),\n",
       " ('Somerset', 345361),\n",
       " ('Mercer', 387340),\n",
       " ('Burlington', 461860),\n",
       " ('Morris', 509285),\n",
       " ('Camden', 523485),\n",
       " ('Passaic', 524118),\n",
       " ('Union', 575345),\n",
       " ('Ocean', 637229),\n",
       " ('Monmouth', 643615),\n",
       " ('Hudson', 724854),\n",
       " ('Middlesex', 863162),\n",
       " ('Essex', 863728),\n",
       " ('Bergen', 955732)]"
      ]
     },
     "execution_count": 4,
     "metadata": {},
     "output_type": "execute_result"
    }
   ],
   "source": [
    "# Sort the dictionary by values in ascending order\n",
    "sorted_counties = sorted(NJ_county_population.items(), key=lambda x: x[1])\n",
    "sorted_counties\n"
   ]
  },
  {
   "cell_type": "markdown",
   "id": "42e26c64",
   "metadata": {},
   "source": [
    "# Metrics"
   ]
  },
  {
   "cell_type": "code",
   "execution_count": 5,
   "id": "5b30be39",
   "metadata": {},
   "outputs": [
    {
     "name": "stdout",
     "output_type": "stream",
     "text": [
      "The sum of the lowest 7 counties is greater than or equal to the size of the top one at Atlantic with a population of 971586.\n"
     ]
    }
   ],
   "source": [
    "\n",
    "# Sort the dictionary by values in ascending order\n",
    "sorted_counties = sorted(NJ_county_population.items(), key=lambda x: x[1])\n",
    "\n",
    "# Initialize variables\n",
    "cumulative_sum = 0\n",
    "top_county_size = sorted_counties[-1][1]\n",
    "max_counties_count = 0\n",
    "\n",
    "# Iterate through the sorted counties and find the point where the cumulative sum is greater than or equal to the top county size\n",
    "for county, population in sorted_counties:\n",
    "    cumulative_sum += population\n",
    "    max_counties_count += 1\n",
    "    if cumulative_sum >= top_county_size:\n",
    "        break\n",
    "\n",
    "print(f\"The sum of the lowest {max_counties_count} counties is greater than or equal to the size of the top one at {county} with a population of {cumulative_sum}.\")\n"
   ]
  },
  {
   "cell_type": "code",
   "execution_count": 6,
   "id": "365d4ce9",
   "metadata": {},
   "outputs": [
    {
     "name": "stdout",
     "output_type": "stream",
     "text": [
      "9288994 Max population\n",
      "5112280 white population\n",
      "0.6503588440255209white population max %\n",
      "774082 population goal\n",
      "21 number of counties \n",
      "12 number of districts\n",
      "7 max number of counties per district\n"
     ]
    }
   ],
   "source": [
    "\n",
    "NJ_Population = sum(list(NJ_county_population.values()))\n",
    "NJ_w_Population = sum(list(NJ_county_white_population .values()))\n",
    "NJ_legislative_districts = 12\n",
    "NJ_Counties = 21\n",
    "NJ_w_Population_p = NJ_w_Population/NJ_Population\n",
    "NJ_w_Population_p_max = NJ_w_Population_p + .10  # average + 10%\n",
    "\n",
    "\n",
    "\n",
    "dist_pop_goal =int(NJ_Population/NJ_legislative_districts)\n",
    "\n",
    "\n",
    "print(f'{NJ_Population} Max population')\n",
    "print(f'{NJ_w_Population} white population')\n",
    "print(f'{NJ_w_Population_p_max}white population max %')\n",
    "\n",
    "\n",
    "print(f'{dist_pop_goal} population goal')\n",
    "print(f'{NJ_Counties} number of counties ')\n",
    "print(f'{NJ_legislative_districts} number of districts')\n",
    "print(f'{max_counties_count} max number of counties per district')\n",
    "\n"
   ]
  },
  {
   "cell_type": "code",
   "execution_count": 7,
   "id": "6d27f42d",
   "metadata": {},
   "outputs": [
    {
     "name": "stdout",
     "output_type": "stream",
     "text": [
      "{'Bergen': 955732, 'Essex': 863728, 'Middlesex': 863162}\n"
     ]
    },
    {
     "data": {
      "text/plain": [
       "3"
      ]
     },
     "execution_count": 7,
     "metadata": {},
     "output_type": "execute_result"
    }
   ],
   "source": [
    "# Filter counties with populations greater than the goaL\n",
    "Single_counties = {county: population for county, population in NJ_county_population.items() if population > dist_pop_goal}\n",
    "\n",
    "print(Single_counties)\n",
    "len(Single_counties)"
   ]
  },
  {
   "cell_type": "markdown",
   "id": "75726c9b",
   "metadata": {},
   "source": [
    "## Calculations\n",
    "Theoretical maximum numnmber of counties per district is 7, however solution converges at 5 anything higher makes the code take longer to run"
   ]
  },
  {
   "cell_type": "code",
   "execution_count": 8,
   "id": "4c42a087",
   "metadata": {},
   "outputs": [
    {
     "name": "stdout",
     "output_type": "stream",
     "text": [
      "27895\n"
     ]
    }
   ],
   "source": [
    "min_len = 1\n",
    "max_len = 5 #can use max_counties_count \n",
    "possible_districts = list(chain.from_iterable(combinations(counties, i) for i in range(min_len, max_len+1)))\n",
    "\n",
    "print(len(possible_districts))"
   ]
  },
  {
   "cell_type": "code",
   "execution_count": 9,
   "id": "e8a5e2f2",
   "metadata": {},
   "outputs": [
    {
     "name": "stdout",
     "output_type": "stream",
     "text": [
      "[1, 0, 1, 1, 1, 1, 0, 1, 0, 0, 0, 0, 0, 0, 1, 0, 0, 0, 0, 0, 0]\n",
      "[0, 1, 0, 0, 0, 0, 1, 0, 1, 0, 0, 0, 0, 0, 0, 1, 0, 0, 0, 0, 0]\n",
      "[1, 0, 1, 1, 0, 0, 0, 0, 0, 0, 1, 0, 1, 0, 1, 0, 0, 0, 0, 0, 0]\n",
      "[1, 0, 1, 1, 0, 0, 0, 1, 0, 0, 0, 0, 0, 0, 0, 0, 0, 0, 0, 0, 0]\n",
      "[1, 0, 0, 0, 1, 1, 0, 0, 0, 0, 0, 0, 0, 0, 0, 0, 0, 0, 0, 0, 0]\n",
      "[1, 0, 0, 0, 1, 1, 0, 1, 0, 0, 0, 0, 0, 0, 0, 0, 1, 0, 0, 0, 0]\n",
      "[0, 1, 0, 0, 0, 0, 1, 0, 1, 0, 0, 0, 0, 1, 0, 1, 0, 0, 0, 1, 0]\n",
      "[1, 0, 0, 1, 0, 1, 0, 1, 0, 0, 0, 0, 0, 0, 0, 0, 1, 0, 0, 0, 0]\n",
      "[0, 1, 0, 0, 0, 0, 1, 0, 1, 0, 0, 0, 0, 0, 0, 0, 0, 0, 0, 1, 0]\n",
      "[0, 0, 0, 0, 0, 0, 0, 0, 0, 1, 1, 0, 0, 1, 0, 0, 0, 1, 0, 0, 1]\n",
      "[0, 0, 1, 0, 0, 0, 0, 0, 0, 1, 1, 1, 1, 0, 0, 0, 0, 1, 0, 0, 0]\n",
      "[0, 0, 0, 0, 0, 0, 0, 0, 0, 0, 1, 1, 1, 0, 0, 0, 0, 1, 0, 1, 0]\n",
      "[0, 0, 1, 0, 0, 0, 0, 0, 0, 0, 1, 1, 1, 0, 1, 0, 0, 0, 0, 0, 0]\n",
      "[0, 0, 0, 0, 0, 0, 1, 0, 0, 1, 0, 0, 0, 1, 0, 1, 0, 1, 1, 1, 1]\n",
      "[1, 0, 1, 0, 0, 0, 0, 0, 0, 0, 0, 0, 1, 0, 1, 0, 0, 0, 0, 0, 0]\n",
      "[0, 1, 0, 0, 0, 0, 1, 0, 0, 0, 0, 0, 0, 1, 0, 1, 0, 0, 1, 0, 0]\n",
      "[0, 0, 0, 0, 0, 1, 0, 1, 0, 0, 0, 0, 0, 0, 0, 0, 1, 0, 0, 0, 0]\n",
      "[0, 0, 0, 0, 0, 0, 0, 0, 0, 1, 1, 1, 0, 1, 0, 0, 0, 1, 0, 1, 0]\n",
      "[0, 0, 0, 0, 0, 0, 0, 0, 0, 0, 0, 0, 0, 1, 0, 1, 0, 0, 1, 0, 1]\n",
      "[0, 0, 0, 0, 0, 0, 1, 0, 1, 0, 0, 1, 0, 1, 0, 0, 0, 1, 0, 1, 0]\n",
      "[0, 0, 0, 0, 0, 0, 0, 0, 0, 1, 0, 0, 0, 1, 0, 0, 0, 0, 1, 0, 1]\n"
     ]
    }
   ],
   "source": [
    "# Initialize a matrix with all zeros\n",
    "matrix_size = len(counties)\n",
    "county_matrix = [[0] * matrix_size for _ in range(matrix_size)]\n",
    "\n",
    "# Populate the matrix based on the neighbor information\n",
    "for i, county in enumerate(counties):\n",
    "    neighbors = NJ_neighbour_counties_data[county]\n",
    "    for neighbor in neighbors:\n",
    "        j = counties.index(neighbor)\n",
    "        county_matrix[i][j] = 1\n",
    "\n",
    "# Print the matrix\n",
    "for row in county_matrix:\n",
    "    print(row)"
   ]
  },
  {
   "cell_type": "markdown",
   "id": "89cd0484",
   "metadata": {},
   "source": [
    "## Find the index of the posible solutions"
   ]
  },
  {
   "cell_type": "code",
   "execution_count": 10,
   "id": "41cf0a0d",
   "metadata": {},
   "outputs": [
    {
     "data": {
      "text/plain": [
       "27895"
      ]
     },
     "execution_count": 10,
     "metadata": {},
     "output_type": "execute_result"
    }
   ],
   "source": [
    "index_sols = []\n",
    "\n",
    "for solution in possible_districts:\n",
    "    if isinstance(solution, tuple): \n",
    "        # If the entry is a tuple, find the index for each element and append\n",
    "        indices = [counties.index(elem) for elem in solution]\n",
    "        index_sols.append(tuple(indices))\n",
    "    else:\n",
    "        # If the entry is a string, find its index and append\n",
    "        index = counties.index(solution)\n",
    "        index_sols.append(index)\n",
    "\n",
    "        \n",
    "len(index_sols)"
   ]
  },
  {
   "cell_type": "markdown",
   "id": "fdbb7091",
   "metadata": {},
   "source": [
    "### Connected counties in the possible solutions\n"
   ]
  },
  {
   "cell_type": "code",
   "execution_count": 11,
   "id": "e8a6e733",
   "metadata": {},
   "outputs": [
    {
     "data": {
      "text/plain": [
       "85"
      ]
     },
     "execution_count": 11,
     "metadata": {},
     "output_type": "execute_result"
    }
   ],
   "source": [
    "#all have to be connected\n",
    "solutions = []\n",
    "\n",
    "# Iterate through all possible combinations of indices in index_sol1\n",
    "for indices in index_sols:\n",
    "    for combo in combinations(indices, min(len(indices), len(indices))):\n",
    "        if len(combo) == 1 or all(county_matrix[i][j] != 0 for i, j in combinations(combo, 2)):\n",
    "            solutions.append(combo)\n",
    "        else:\n",
    "            break  # at least one county is isolated from the rest            \n",
    "                \n",
    "len(solutions)"
   ]
  },
  {
   "cell_type": "code",
   "execution_count": 12,
   "id": "b0518987",
   "metadata": {},
   "outputs": [
    {
     "data": {
      "text/plain": [
       "'\\nsolutions = []\\nG = nx.Graph()\\nG.add_nodes_from(range(len(county_matrix)))\\n\\nedges = [(i, j) for i in range(len(county_matrix)) for j in range(len(county_matrix)) if county_matrix[i][j] != 0]\\nG.add_edges_from(edges)\\n\\n# Iterate through all possible combinations of indices in index_sols\\nfor indices in index_sols:\\n    for combo in combinations(indices, min(len(indices), len(indices))):\\n        subgraph = G.subgraph(combo)\\n        if len(combo) == 1 or nx.is_connected(subgraph):\\n            solutions.append(combo)\\n        else:\\n            break  # at least one county is isolated from the rest\\n\\n# Print the number of solutions\\nprint(len(solutions))'"
      ]
     },
     "execution_count": 12,
     "metadata": {},
     "output_type": "execute_result"
    }
   ],
   "source": [
    "#Hall counties have to be connected by at least another county to the rest\n",
    "\"\"\"\n",
    "solutions = []\n",
    "G = nx.Graph()\n",
    "G.add_nodes_from(range(len(county_matrix)))\n",
    "\n",
    "edges = [(i, j) for i in range(len(county_matrix)) for j in range(len(county_matrix)) if county_matrix[i][j] != 0]\n",
    "G.add_edges_from(edges)\n",
    "\n",
    "# Iterate through all possible combinations of indices in index_sols\n",
    "for indices in index_sols:\n",
    "    for combo in combinations(indices, min(len(indices), len(indices))):\n",
    "        subgraph = G.subgraph(combo)\n",
    "        if len(combo) == 1 or nx.is_connected(subgraph):\n",
    "            solutions.append(combo)\n",
    "        else:\n",
    "            break  # at least one county is isolated from the rest\n",
    "\n",
    "# Print the number of solutions\n",
    "print(len(solutions))\"\"\"\n"
   ]
  },
  {
   "cell_type": "code",
   "execution_count": 13,
   "id": "abbd4815",
   "metadata": {},
   "outputs": [],
   "source": [
    "#rewrite indexes into solutions\n",
    "\n",
    "result = []\n",
    "\n",
    "for index in solutions:\n",
    "    names = tuple(counties[i] for i in index)\n",
    "    result.append(names)\n"
   ]
  },
  {
   "cell_type": "markdown",
   "id": "8f7b59bb",
   "metadata": {},
   "source": [
    "## calculate the total population for the solution being evaluated"
   ]
  },
  {
   "cell_type": "code",
   "execution_count": 14,
   "id": "69706018",
   "metadata": {},
   "outputs": [],
   "source": [
    "def total_pop(district):\n",
    "    pop_list = [NJ_county_population[county] for county in district]\n",
    "    population = sum(pop_list)\n",
    "    return population"
   ]
  },
  {
   "cell_type": "markdown",
   "id": "ab18e974",
   "metadata": {},
   "source": [
    "## Objective Fuction\n",
    " weighted sum of the distances between the population of each district and the average population"
   ]
  },
  {
   "cell_type": "code",
   "execution_count": 15,
   "id": "97de3630",
   "metadata": {},
   "outputs": [
    {
     "name": "stdout",
     "output_type": "stream",
     "text": [
      "The chosen districts are out of a total of 85:\n",
      "('Bergen',) 955732\n",
      "('Essex',) 863728\n",
      "('Hudson',) 724854\n",
      "('Middlesex',) 863162\n",
      "('Ocean',) 637229\n",
      "('Burlington', 'Camden') 985345\n",
      "('Gloucester', 'Salem') 367131\n",
      "('Mercer', 'Monmouth') 1030955\n",
      "('Passaic', 'Sussex') 668339\n",
      "('Somerset', 'Union') 920706\n",
      "('Atlantic', 'Cape May', 'Cumberland') 523949\n",
      "('Hunterdon', 'Morris', 'Warren') 747864\n",
      "Number of chosen districts: 12\n"
     ]
    },
    {
     "name": "stderr",
     "output_type": "stream",
     "text": [
      "C:\\Users\\logic\\anaconda3\\Lib\\site-packages\\pulp\\pulp.py:1316: UserWarning: Spaces are not permitted in the name. Converted to '_'\n",
      "  warnings.warn(\"Spaces are not permitted in the name. Converted to '_'\")\n"
     ]
    }
   ],
   "source": [
    "import pulp\n",
    "\n",
    "\n",
    "# Create a binary variable to state that a district is used\n",
    "x = pulp.LpVariable.dicts('district', result, lowBound=0, upBound=1, cat=pulp.LpInteger)\n",
    "\n",
    "# Define the objective function: minimize the sum of distances from the average population\n",
    "redistrict_model = pulp.LpProblem(\"Redistricting Model\", pulp.LpMinimize)\n",
    "\n",
    "#specify the maximum number of districts\n",
    "redistrict_model += sum([x[district] for district in result]) == NJ_legislative_districts\n",
    "\n",
    "# A county can be assigned to one and only one district\n",
    "for county in counties:\n",
    "    redistrict_model += sum([x[district] for district in result if county in district]) == 1\n",
    "\n",
    "\n",
    "# minimize the distance between selected models and the average population\n",
    "redistrict_model += sum([x[district] * abs(total_pop(district) - dist_pop_goal) for district in result]), \"Objective\"\n",
    "# Solve the model\n",
    "redistrict_model.solve()\n",
    "\n",
    "# Print the chosen districts\n",
    "count_districts = 0\n",
    "print(\"The chosen districts are out of a total of %s:\" % len(result))\n",
    "\n",
    "finalsolution = []\n",
    "for district in result:\n",
    "    if x[district].value() == 1.0:\n",
    "        count_districts += 1\n",
    "        finalsolution.append(district)\n",
    "        print(district, total_pop(district))\n",
    "\n",
    "print(\"Number of chosen districts:\", count_districts)\n"
   ]
  },
  {
   "cell_type": "code",
   "execution_count": null,
   "id": "d85b33c4",
   "metadata": {},
   "outputs": [],
   "source": []
  },
  {
   "cell_type": "code",
   "execution_count": 16,
   "id": "7314725a",
   "metadata": {},
   "outputs": [
    {
     "name": "stderr",
     "output_type": "stream",
     "text": [
      "C:\\Users\\logic\\anaconda3\\Lib\\site-packages\\geopandas\\plotting.py:819: FutureWarning: In a future version, the Index constructor will not infer numeric dtypes when passed object-dtype sequences (matching Series behavior)\n",
      "  cat = pd.Categorical(values, categories=categories)\n"
     ]
    },
    {
     "data": {
      "image/png": "[encoded data removed]",
      "text/plain": [
       "<Figure size 1200x1200 with 1 Axes>"
      ]
     },
     "metadata": {},
     "output_type": "display_data"
    }
   ],
   "source": [
    "import geopandas as gpd\n",
    "import matplotlib.pyplot as plt\n",
    "\n",
    "# Load the GeoJSON file\n",
    "geojson_file = \"nj-county-boundaries.geojson\"\n",
    "counties = gpd.read_file(geojson_file)\n",
    "\n",
    "# Define the county groups\n",
    "\n",
    "county_groups =  finalsolution\n",
    "\n",
    "# Create a new column in the GeoDataFrame to store group information\n",
    "counties['group'] = None\n",
    "\n",
    "# Assign groups to each county\n",
    "for group_idx, counties_in_group in enumerate(county_groups):\n",
    "    counties.loc[counties['name'].isin(counties_in_group), 'group'] = group_idx\n",
    "\n",
    "# Plot the map\n",
    "fig, ax = plt.subplots(figsize=(12, 12))\n",
    "counties.plot(column='group', cmap='tab20', linewidth=0.8, ax=ax, edgecolor='0.8', legend=True)\n",
    "\n",
    "# Customize the legend\n",
    "legend_labels = [f\"Group {i+1}: {', '.join(groups)}\" for i, groups in enumerate(county_groups)]\n",
    "ax.legend(legend_labels, loc='upper left', bbox_to_anchor=(1, 1))\n",
    "\n",
    "# Set plot title\n",
    "plt.title('New Jersey County Groups')\n",
    "\n",
    "# Display the map\n",
    "plt.show()\n"
   ]
  }
 ],
 "metadata": {
  "kernelspec": {
   "display_name": "Python 3 (ipykernel)",
   "language": "python",
   "name": "python3"
  },
  "language_info": {
   "codemirror_mode": {
    "name": "ipython",
    "version": 3
   },
   "file_extension": ".py",
   "mimetype": "text/x-python",
   "name": "python",
   "nbconvert_exporter": "python",
   "pygments_lexer": "ipython3",
   "version": "3.11.4"
  }
 },
 "nbformat": 4,
 "nbformat_minor": 5
}
