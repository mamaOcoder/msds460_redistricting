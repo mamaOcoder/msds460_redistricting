{
  "nbformat": 4,
  "nbformat_minor": 0,
  "metadata": {
    "colab": {
      "provenance": [],
      "gpuType": "T4"
    },
    "kernelspec": {
      "name": "python3",
      "display_name": "Python 3"
    },
    "language_info": {
      "name": "python"
    },
    "accelerator": "GPU"
  },
  "cells": [
    {
      "cell_type": "code",
      "execution_count": null,
      "metadata": {
        "colab": {
          "base_uri": "https://localhost:8080/"
        },
        "id": "F-zAPYVL_cww",
        "outputId": "ab6b0cc6-f82a-4556-eac5-25c0f8b9b451"
      },
      "outputs": [
        {
          "output_type": "stream",
          "name": "stdout",
          "text": [
            "Total population: 9249175\n",
            "Desired population:  770764.5833333334\n",
            "Counties not used in the model:\n",
            "\t Bergen County 949233\n",
            "\t Essex County 840189\n",
            "\t Middlesex County 859598\n",
            "Number of counties used in the model:  18\n",
            "Updated total population:  6600155\n",
            "Updated number of districts:  9\n",
            "Updated desired population:  733350.5555555555\n"
          ]
        }
      ],
      "source": [
        "import json\n",
        "import numpy as np\n",
        "from pulp import LpProblem, LpMinimize, LpVariable, lpSum\n",
        "import math\n",
        "\n",
        "# Function to calculate Euclidean distance between two points\n",
        "def calculate_distance(coord1, coord2):\n",
        "    return math.sqrt((coord1[0] - coord2[0])**2 + (coord1[1] - coord2[1])**2)\n",
        "\n",
        "# Load NJ counties and adjacent counties into a dict\n",
        "njc_file = 'nj_counties.json'\n",
        "with open(njc_file) as f:\n",
        "    njc_dict = json.load(f)\n",
        "\n",
        "total_pop = sum(county_data['population'] for county_data in njc_dict.values())\n",
        "print(\"Total population:\", total_pop)\n",
        "\n",
        "# Number of congressional districts\n",
        "n_districts = 12\n",
        "\n",
        "# Calculate desired population for each district for population balance\n",
        "desired_pop = total_pop / n_districts\n",
        "print('Desired population: ', desired_pop)\n",
        "\n",
        "# Preprocess counties based on desired population\n",
        "model_cities = {}\n",
        "model_n_counties = 0\n",
        "model_total_pop = 0\n",
        "model_n_districts = n_districts\n",
        "print('Counties not used in the model:')\n",
        "for county, data in njc_dict.items():\n",
        "    c_pop = data['population']\n",
        "    if c_pop > desired_pop:\n",
        "        print('\\t', county, c_pop)\n",
        "        model_n_districts -= 1\n",
        "    else:\n",
        "        model_cities[county] = data\n",
        "        model_n_counties += 1\n",
        "        model_total_pop += c_pop\n",
        "\n",
        "print('Number of counties used in the model: ', model_n_counties)\n",
        "print('Updated total population: ', model_total_pop)\n",
        "print('Updated number of districts: ', model_n_districts)\n",
        "print('Updated desired population: ', model_total_pop / model_n_districts)\n",
        "\n",
        "# Create the model\n",
        "model = LpProblem(\"Redistricting\", LpMinimize)\n",
        "\n",
        "# Decision Variables\n",
        "DV_variable_d = LpVariable.dicts(\"d\", [(i, j) for i in range(model_n_counties) for j in range(model_n_districts)], cat=\"Binary\")\n",
        "\n",
        "# Calculate distances between all pairs of counties\n",
        "county_list = list(model_cities.keys())\n",
        "distance_matrix = {}\n",
        "for i, county_i in enumerate(county_list):\n",
        "    for j, county_j in enumerate(county_list):\n",
        "        if i != j:\n",
        "            coord_i = model_cities[county_i]['geo_coords']\n",
        "            coord_j = model_cities[county_j]['geo_coords']\n",
        "            distance_matrix[(i, j)] = calculate_distance(coord_i, coord_j)\n",
        "\n",
        "# Constraints\n",
        "# Ensure each county is assigned to exactly one district\n",
        "for i in range(model_n_counties):\n",
        "    model += lpSum(DV_variable_d[(i, j)] for j in range(model_n_districts)) == 1, f\"County_{i}_Assignment\"\n",
        "\n",
        "# Ensure districts have populations within desired ranges\n",
        "for j in range(model_n_districts):\n",
        "    model += lpSum(DV_variable_d[(i, j)] * model_cities[county_list[i]]['population'] for i in range(model_n_counties)) >= 0.9 * desired_pop, f\"District_{j+1}_MinPop\"\n",
        "    model += lpSum(DV_variable_d[(i, j)] * model_cities[county_list[i]]['population'] for i in range(model_n_counties)) <= 1.1 * desired_pop, f\"District_{j+1}_MaxPop\"\n",
        "\n",
        "# Objective Function: Minimize the sum of distances indirectly through adjacency considerations\n",
        "model += lpSum(DV_variable_d[(i, j)] * distance_matrix.get((i, k), 0)\n",
        "               for i in range(model_n_counties)\n",
        "               for j in range(model_n_districts)\n",
        "               for k in range(model_n_counties) if i != k), \"Compactness\"\n",
        "\n",
        "# Solve the model\n",
        "status = model.solve()\n",
        "\n",
        "# Check the status of the solution\n",
        "print(\"Status:\", LpProblem.status[status])\n",
        "\n",
        "# To display the assignments (optional)\n",
        "for v in model.variables():\n",
        "    if v.varValue == 1:\n",
        "        print(v.name, \"=\", v.varValue)\n"
      ]
    }
  ]
}